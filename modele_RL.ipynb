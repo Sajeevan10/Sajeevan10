{
  "nbformat": 4,
  "nbformat_minor": 0,
  "metadata": {
    "colab": {
      "provenance": [],
      "toc_visible": true,
      "authorship_tag": "ABX9TyPAQpP36MyhxFTZKrw9F+9A",
      "include_colab_link": true
    },
    "kernelspec": {
      "name": "python3",
      "display_name": "Python 3"
    },
    "language_info": {
      "name": "python"
    }
  },
  "cells": [
    {
      "cell_type": "markdown",
      "metadata": {
        "id": "view-in-github",
        "colab_type": "text"
      },
      "source": [
        "<a href=\"https://colab.research.google.com/github/Sajeevan10/Sajeevan10/blob/main/modele_RL.ipynb\" target=\"_parent\"><img src=\"https://colab.research.google.com/assets/colab-badge.svg\" alt=\"Open In Colab\"/></a>"
      ]
    },
    {
      "cell_type": "code",
      "execution_count": 4,
      "metadata": {
        "colab": {
          "base_uri": "https://localhost:8080/",
          "height": 419
        },
        "id": "WBWJWU0z3YX6",
        "outputId": "5def6243-f4a9-49ab-de4d-84daccbc492d"
      },
      "outputs": [
        {
          "output_type": "stream",
          "name": "stdout",
          "text": [
            "- - - - -\n",
            "- A - - -\n",
            "- - - - -\n",
            "- - - - -\n",
            "- - - - G\n"
          ]
        },
        {
          "output_type": "error",
          "ename": "KeyboardInterrupt",
          "evalue": "",
          "traceback": [
            "\u001b[0;31m---------------------------------------------------------------------------\u001b[0m",
            "\u001b[0;31mKeyboardInterrupt\u001b[0m                         Traceback (most recent call last)",
            "\u001b[0;32m<ipython-input-4-51230af7e86e>\u001b[0m in \u001b[0;36m<cell line: 0>\u001b[0;34m()\u001b[0m\n\u001b[1;32m     78\u001b[0m \u001b[0;34m\u001b[0m\u001b[0m\n\u001b[1;32m     79\u001b[0m         \u001b[0mstate\u001b[0m \u001b[0;34m=\u001b[0m \u001b[0mnew_state\u001b[0m\u001b[0;34m\u001b[0m\u001b[0;34m\u001b[0m\u001b[0m\n\u001b[0;32m---> 80\u001b[0;31m         \u001b[0mrender\u001b[0m\u001b[0;34m(\u001b[0m\u001b[0mstate\u001b[0m\u001b[0;34m)\u001b[0m\u001b[0;34m\u001b[0m\u001b[0;34m\u001b[0m\u001b[0m\n\u001b[0m\u001b[1;32m     81\u001b[0m \u001b[0;34m\u001b[0m\u001b[0m\n\u001b[1;32m     82\u001b[0m \u001b[0;31m# Affichage de la meilleure politique\u001b[0m\u001b[0;34m\u001b[0m\u001b[0;34m\u001b[0m\u001b[0m\n",
            "\u001b[0;32m<ipython-input-4-51230af7e86e>\u001b[0m in \u001b[0;36mrender\u001b[0;34m(state)\u001b[0m\n\u001b[1;32m     62\u001b[0m     \u001b[0;32mfor\u001b[0m \u001b[0mrow\u001b[0m \u001b[0;32min\u001b[0m \u001b[0mgrid\u001b[0m\u001b[0;34m:\u001b[0m\u001b[0;34m\u001b[0m\u001b[0;34m\u001b[0m\u001b[0m\n\u001b[1;32m     63\u001b[0m         \u001b[0mprint\u001b[0m\u001b[0;34m(\u001b[0m\u001b[0;34m\" \"\u001b[0m\u001b[0;34m.\u001b[0m\u001b[0mjoin\u001b[0m\u001b[0;34m(\u001b[0m\u001b[0mrow\u001b[0m\u001b[0;34m)\u001b[0m\u001b[0;34m)\u001b[0m\u001b[0;34m\u001b[0m\u001b[0;34m\u001b[0m\u001b[0m\n\u001b[0;32m---> 64\u001b[0;31m     \u001b[0mtime\u001b[0m\u001b[0;34m.\u001b[0m\u001b[0msleep\u001b[0m\u001b[0;34m(\u001b[0m\u001b[0;36m0.1\u001b[0m\u001b[0;34m)\u001b[0m\u001b[0;34m\u001b[0m\u001b[0;34m\u001b[0m\u001b[0m\n\u001b[0m\u001b[1;32m     65\u001b[0m \u001b[0;34m\u001b[0m\u001b[0m\n\u001b[1;32m     66\u001b[0m \u001b[0;31m# Entraînement de l'agent\u001b[0m\u001b[0;34m\u001b[0m\u001b[0;34m\u001b[0m\u001b[0m\n",
            "\u001b[0;31mKeyboardInterrupt\u001b[0m: "
          ]
        }
      ],
      "source": [
        "import numpy as np\n",
        "import matplotlib.pyplot as plt\n",
        "import random\n",
        "import time\n",
        "from IPython.display import clear_output\n",
        "\n",
        "# Définition de l'environnement\n",
        "grid_size = 5  # Environnement 5x5\n",
        "num_states = grid_size * grid_size  # Nombre d'états possibles\n",
        "num_actions = 4  # Actions possibles: haut, bas, gauche, droite\n",
        "\n",
        "# Définition des actions\n",
        "actions = {\n",
        "    0: (-1, 0),  # Haut\n",
        "    1: (1, 0),   # Bas\n",
        "    2: (0, -1),  # Gauche\n",
        "    3: (0, 1)    # Droite\n",
        "}\n",
        "\n",
        "# Position de départ et objectif\n",
        "start_state = (0, 0)\n",
        "goal_state = (4, 4)\n",
        "\n",
        "# Initialisation de la table de Q-learning\n",
        "Q_table = np.zeros((num_states, num_actions))\n",
        "\n",
        "# Hyperparamètres\n",
        "alpha = 0.1  # Taux d'apprentissage\n",
        "gamma = 0.9  # Facteur de discount\n",
        "epsilon = 0.1  # Probabilité d'exploration\n",
        "num_episodes = 1000  # Nombre d'épisodes\n",
        "\n",
        "# Fonction pour convertir une position en index de la table Q\n",
        "def state_to_index(state):\n",
        "    return state[0] * grid_size + state[1]\n",
        "\n",
        "# Fonction pour obtenir l'action avec exploration/exploitation\n",
        "def choose_action(state):\n",
        "    if np.random.rand() < epsilon:\n",
        "        return np.random.choice(num_actions)  # Exploration\n",
        "    else:\n",
        "        return np.argmax(Q_table[state_to_index(state)])  # Exploitation\n",
        "\n",
        "# Fonction pour appliquer une action et obtenir le nouvel état et la récompense\n",
        "def step(state, action):\n",
        "    new_state = (state[0] + actions[action][0], state[1] + actions[action][1])\n",
        "\n",
        "    # Vérification des limites de la grille\n",
        "    new_state = (max(0, min(grid_size - 1, new_state[0])),\n",
        "                 max(0, min(grid_size - 1, new_state[1])))\n",
        "\n",
        "    # Récompense\n",
        "    reward = 1 if new_state == goal_state else -0.1\n",
        "    return new_state, reward\n",
        "\n",
        "# Fonction pour afficher la grille\n",
        "def render(state):\n",
        "    grid = np.full((grid_size, grid_size), '-', dtype=str)\n",
        "    grid[state] = 'A'  # Agent\n",
        "    grid[goal_state] = 'G'  # Goal\n",
        "    clear_output(wait=True)\n",
        "    for row in grid:\n",
        "        print(\" \".join(row))\n",
        "    time.sleep(0.1)\n",
        "\n",
        "# Entraînement de l'agent\n",
        "for episode in range(num_episodes):\n",
        "    state = start_state\n",
        "\n",
        "    while state != goal_state:\n",
        "        action = choose_action(state)\n",
        "        new_state, reward = step(state, action)\n",
        "\n",
        "        # Mise à jour de la table Q\n",
        "        q_index = state_to_index(state)\n",
        "        next_q_index = state_to_index(new_state)\n",
        "        Q_table[q_index, action] += alpha * (reward + gamma * np.max(Q_table[next_q_index]) - Q_table[q_index, action])\n",
        "\n",
        "        state = new_state\n",
        "        render(state)\n",
        "\n",
        "# Affichage de la meilleure politique\n",
        "policy = np.array([['⬆', '⬇', '⬅', '➡'][np.argmax(Q_table[state_to_index((i, j))])] for i in range(grid_size) for j in range(grid_size)])\n",
        "policy = policy.reshape((grid_size, grid_size))\n",
        "\n",
        "print(\"Politique optimale estimée:\")\n",
        "print(policy)"
      ]
    }
  ]
}